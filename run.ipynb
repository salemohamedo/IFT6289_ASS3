{
 "nbformat": 4,
 "nbformat_minor": 0,
 "metadata": {
  "colab": {
   "name": "run.ipynb",
   "private_outputs": true,
   "provenance": [],
   "collapsed_sections": [],
   "toc_visible": true
  },
  "kernelspec": {
   "display_name": "Python 3",
   "language": "python",
   "name": "python3"
  },
  "language_info": {
   "codemirror_mode": {
    "name": "ipython",
    "version": 3
   },
   "file_extension": ".py",
   "mimetype": "text/x-python",
   "name": "python",
   "nbconvert_exporter": "python",
   "pygments_lexer": "ipython3",
   "version": "3.6.11"
  },
  "varInspector": {
   "cols": {
    "lenName": 16,
    "lenType": 16,
    "lenVar": 40
   },
   "kernels_config": {
    "python": {
     "delete_cmd_postfix": "",
     "delete_cmd_prefix": "del ",
     "library": "var_list.py",
     "varRefreshCmd": "print(var_dic_list())"
    },
    "r": {
     "delete_cmd_postfix": ") ",
     "delete_cmd_prefix": "rm(",
     "library": "var_list.r",
     "varRefreshCmd": "cat(var_dic_list()) "
    }
   },
   "types_to_exclude": [
    "module",
    "function",
    "builtin_function_or_method",
    "instance",
    "_Feature"
   ],
   "window_display": false
  }
 },
 "cells": [
  {
   "cell_type": "markdown",
   "metadata": {
    "id": "HkOk1l_44ERM"
   },
   "source": [
    "# IFT6289 Assignment 3"
   ]
  },
  {
   "cell_type": "code",
   "metadata": {
    "id": "VZZ4-iY8-X1-"
   },
   "source": [
    "from google.colab import drive\n",
    "\n",
    "drive.mount('/content/drive')"
   ],
   "execution_count": null,
   "outputs": []
  },
  {
   "cell_type": "code",
   "metadata": {
    "id": "ravw0f2lDupz"
   },
   "source": [
    "# go into the a3 folder\n",
    "% cd\n",
    "!ls"
   ],
   "execution_count": null,
   "outputs": []
  },
  {
   "cell_type": "code",
   "metadata": {
    "id": "5mmqSh3szedt"
   },
   "source": [
    "! pip3 install transformers"
   ],
   "execution_count": null,
   "outputs": []
  },
  {
   "cell_type": "markdown",
   "metadata": {
    "id": "olVpflosFGpf"
   },
   "source": [
    "# Loading dataset SST-2"
   ]
  },
  {
   "cell_type": "code",
   "metadata": {
    "id": "7zIdamm9FJWd"
   },
   "source": [
    "import pandas as pd\n",
    "import os\n",
    "\n",
    "data_path = \"./data/\"\n",
    "train_df = pd.read_csv(os.path.join(data_path, \"train.tsv\"), sep='\\t', header=None, names=['similarity', 's1'])\n",
    "dev_df = pd.read_csv(os.path.join(data_path, \"dev.tsv\"), sep='\\t', header=None, names=['similarity', 's1'])\n",
    "test_df = pd.read_csv(os.path.join(data_path, \"test.tsv\"), sep='\\t', header=None, names=['similarity', 's1'])"
   ],
   "execution_count": 2,
   "outputs": []
  },
  {
   "cell_type": "markdown",
   "source": [],
   "metadata": {
    "collapsed": false
   }
  },
  {
   "cell_type": "markdown",
   "metadata": {
    "id": "hPPfRpmnfjWo"
   },
   "source": [
    "# Fine-tuning BERT"
   ]
  },
  {
   "cell_type": "code",
   "metadata": {
    "id": "mGFbny5-eN7W",
    "pycharm": {
     "is_executing": true
    }
   },
   "source": [
    "from trainer import model_train_validate_test\n",
    "import pandas as pd\n",
    "from utils import Metric\n",
    "import os\n",
    "\n",
    "target_dir = \"./output/Bert/finetune\"\n",
    "\n",
    "model_train_validate_test(train_df, dev_df, test_df, target_dir,\n",
    "                          max_seq_len=50,\n",
    "                          epochs=3,\n",
    "                          batch_size=32,\n",
    "                          lr=5e-5,\n",
    "                          prefix_len=50,\n",
    "                          scheduler_patience=1,\n",
    "                          early_stopping_patience=1,\n",
    "                          max_grad_norm=10.0,\n",
    "                          if_save_model=True,\n",
    "                          checkpoint=None,\n",
    "                          mode='finetune')\n",
    "\n",
    "test_result = pd.read_csv(os.path.join(target_dir, 'test_prediction.csv'))\n",
    "Metric(test_df.similarity, test_result.prediction)"
   ],
   "execution_count": null,
   "outputs": []
  },
  {
   "cell_type": "markdown",
   "metadata": {
    "id": "rL7-8ZxnF7OY"
   },
   "source": [
    "# Prefix-tuning BERT"
   ]
  },
  {
   "cell_type": "code",
   "metadata": {
    "id": "8Kvqu722F17A",
    "pycharm": {
     "name": "#%%\n"
    }
   },
   "source": [
    "from trainer import model_train_validate_test\n",
    "import pandas as pd\n",
    "from utils import Metric\n",
    "import os\n",
    "\n",
    "target_dir = \"./output/Bert/prefixtune\"\n",
    "\n",
    "model_train_validate_test(train_df, dev_df, test_df, target_dir,\n",
    "                          max_seq_len=50,\n",
    "                          epochs=20,\n",
    "                          batch_size=32,\n",
    "                          lr=5e-4,\n",
    "                          prefix_len=50,\n",
    "                          scheduler_patience=5,\n",
    "                          early_stopping_patience=8,\n",
    "                          max_grad_norm=10.0,\n",
    "                          if_save_model=True,\n",
    "                          checkpoint=None,\n",
    "                          mode='prefixtune')\n",
    "\n",
    "test_result = pd.read_csv(os.path.join(target_dir, 'test_prediction.csv'))\n",
    "Metric(test_df.similarity, test_result.prediction)"
   ],
   "execution_count": null,
   "outputs": []
  }
 ]
}